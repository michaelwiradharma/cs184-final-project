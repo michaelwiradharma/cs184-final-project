{
 "cells": [
  {
   "cell_type": "code",
   "execution_count": 1,
   "metadata": {},
   "outputs": [],
   "source": [
    "import numpy as np\n",
    "import mcubes"
   ]
  },
  {
   "cell_type": "code",
   "execution_count": 7,
   "metadata": {},
   "outputs": [],
   "source": [
    "pc = np.load('point_cloud_array.npy')"
   ]
  },
  {
   "cell_type": "code",
   "execution_count": 23,
   "metadata": {},
   "outputs": [
    {
     "data": {
      "text/plain": [
       "(2000, 3)"
      ]
     },
     "execution_count": 23,
     "metadata": {},
     "output_type": "execute_result"
    }
   ],
   "source": [
    "pc[0].shape"
   ]
  },
  {
   "cell_type": "code",
   "execution_count": 9,
   "metadata": {},
   "outputs": [],
   "source": [
    "vertices, triangles = mcubes.marching_cubes(pc, 0)"
   ]
  },
  {
   "cell_type": "code",
   "execution_count": 10,
   "metadata": {},
   "outputs": [],
   "source": [
    "mcubes.export_obj(vertices, triangles, 'pc.obj')"
   ]
  },
  {
   "cell_type": "code",
   "execution_count": 14,
   "metadata": {},
   "outputs": [],
   "source": [
    "X, Y, Z = np.mgrid[:30, :30, :30]\n",
    "u = (X-15)**2 + (Y-15)**2 + (Z-15)**2 - 8**2"
   ]
  },
  {
   "cell_type": "code",
   "execution_count": 30,
   "metadata": {},
   "outputs": [
    {
     "data": {
      "text/plain": [
       "array([[[611, 582, 555, ..., 530, 555, 582],\n",
       "        [582, 553, 526, ..., 501, 526, 553],\n",
       "        [555, 526, 499, ..., 474, 499, 526],\n",
       "        ...,\n",
       "        [530, 501, 474, ..., 449, 474, 501],\n",
       "        [555, 526, 499, ..., 474, 499, 526],\n",
       "        [582, 553, 526, ..., 501, 526, 553]],\n",
       "\n",
       "       [[582, 553, 526, ..., 501, 526, 553],\n",
       "        [553, 524, 497, ..., 472, 497, 524],\n",
       "        [526, 497, 470, ..., 445, 470, 497],\n",
       "        ...,\n",
       "        [501, 472, 445, ..., 420, 445, 472],\n",
       "        [526, 497, 470, ..., 445, 470, 497],\n",
       "        [553, 524, 497, ..., 472, 497, 524]],\n",
       "\n",
       "       [[555, 526, 499, ..., 474, 499, 526],\n",
       "        [526, 497, 470, ..., 445, 470, 497],\n",
       "        [499, 470, 443, ..., 418, 443, 470],\n",
       "        ...,\n",
       "        [474, 445, 418, ..., 393, 418, 445],\n",
       "        [499, 470, 443, ..., 418, 443, 470],\n",
       "        [526, 497, 470, ..., 445, 470, 497]],\n",
       "\n",
       "       ...,\n",
       "\n",
       "       [[530, 501, 474, ..., 449, 474, 501],\n",
       "        [501, 472, 445, ..., 420, 445, 472],\n",
       "        [474, 445, 418, ..., 393, 418, 445],\n",
       "        ...,\n",
       "        [449, 420, 393, ..., 368, 393, 420],\n",
       "        [474, 445, 418, ..., 393, 418, 445],\n",
       "        [501, 472, 445, ..., 420, 445, 472]],\n",
       "\n",
       "       [[555, 526, 499, ..., 474, 499, 526],\n",
       "        [526, 497, 470, ..., 445, 470, 497],\n",
       "        [499, 470, 443, ..., 418, 443, 470],\n",
       "        ...,\n",
       "        [474, 445, 418, ..., 393, 418, 445],\n",
       "        [499, 470, 443, ..., 418, 443, 470],\n",
       "        [526, 497, 470, ..., 445, 470, 497]],\n",
       "\n",
       "       [[582, 553, 526, ..., 501, 526, 553],\n",
       "        [553, 524, 497, ..., 472, 497, 524],\n",
       "        [526, 497, 470, ..., 445, 470, 497],\n",
       "        ...,\n",
       "        [501, 472, 445, ..., 420, 445, 472],\n",
       "        [526, 497, 470, ..., 445, 470, 497],\n",
       "        [553, 524, 497, ..., 472, 497, 524]]])"
      ]
     },
     "execution_count": 30,
     "metadata": {},
     "output_type": "execute_result"
    }
   ],
   "source": [
    "u"
   ]
  },
  {
   "cell_type": "code",
   "execution_count": null,
   "metadata": {},
   "outputs": [],
   "source": []
  }
 ],
 "metadata": {
  "kernelspec": {
   "display_name": "ml",
   "language": "python",
   "name": "python3"
  },
  "language_info": {
   "codemirror_mode": {
    "name": "ipython",
    "version": 3
   },
   "file_extension": ".py",
   "mimetype": "text/x-python",
   "name": "python",
   "nbconvert_exporter": "python",
   "pygments_lexer": "ipython3",
   "version": "3.11.4"
  }
 },
 "nbformat": 4,
 "nbformat_minor": 2
}
